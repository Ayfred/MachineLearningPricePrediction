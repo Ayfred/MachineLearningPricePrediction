{
  "cells": [
    {
      "cell_type": "markdown",
      "metadata": {
        "id": "view-in-github",
        "colab_type": "text"
      },
      "source": [
        "<a href=\"https://colab.research.google.com/github/Ayfred/MachineLearningPricePrediction/blob/main/Projet_Machine_Learning_trained_models.ipynb\" target=\"_parent\"><img src=\"https://colab.research.google.com/assets/colab-badge.svg\" alt=\"Open In Colab\"/></a>"
      ]
    },
    {
      "cell_type": "markdown",
      "metadata": {
        "id": "P0-sx_s2NXl-"
      },
      "source": [
        "# Import des bibliothèques"
      ]
    },
    {
      "cell_type": "code",
      "execution_count": null,
      "metadata": {
        "id": "BwKb2LbEAVm1"
      },
      "outputs": [],
      "source": [
        "import pandas as pd\n",
        "import numpy as np\n",
        "import matplotlib.pyplot as plt"
      ]
    },
    {
      "cell_type": "markdown",
      "metadata": {
        "id": "vekDcLSYR4A7"
      },
      "source": [
        "# Modèle de régression\n"
      ]
    },
    {
      "cell_type": "markdown",
      "metadata": {
        "id": "ziCbUjL5SPid"
      },
      "source": [
        "Chargement de notre meilleur modèle de regression : GradientBoostingRegressor"
      ]
    },
    {
      "cell_type": "code",
      "execution_count": null,
      "metadata": {
        "id": "5pwJQKcOWfjL"
      },
      "outputs": [],
      "source": [
        "from sklearn.ensemble import GradientBoostingRegressor\n",
        "\n",
        "gb_regressor = GradientBoostingRegressor()"
      ]
    },
    {
      "cell_type": "code",
      "execution_count": null,
      "metadata": {
        "id": "wEV23tf87LVw"
      },
      "outputs": [],
      "source": [
        "import joblib\n",
        "\n",
        "joblib.dump(gb_regressor, 'models/gb_regressor.pkl')\n",
        "gb_regressor = joblib.load('models/gb_regressor.pkl')"
      ]
    },
    {
      "cell_type": "markdown",
      "metadata": {
        "id": "uLTBR0Af7LVx"
      },
      "source": [
        "Pour une maison unique :"
      ]
    },
    {
      "cell_type": "code",
      "execution_count": null,
      "metadata": {
        "id": "fYS8G6gC7LVx",
        "outputId": "dda6b4a9-c865-446e-9dc0-3da7686e0c55"
      },
      "outputs": [
        {
          "data": {
            "text/plain": [
              "array([208762.33509667])"
            ]
          },
          "execution_count": 18,
          "metadata": {},
          "output_type": "execute_result"
        }
      ],
      "source": [
        "# Créer un dataframe à partir des données fournies\n",
        "data = pd.DataFrame(np.array([[7, 2003, 2003, 856, 856, 1710, 2, 8, 2, 548, 1, 1]]),\n",
        "                    columns=['OverallQual', 'YearBuilt', 'YearRemodAdd', 'TotalBsmtSF', '1stFlrSF',\n",
        "                             'GrLivArea', 'FullBath', 'TotRmsAbvGrd', 'GarageCars', 'GarageArea',\n",
        "                             'BsmtQual_Ex', 'KitchenQual_Ex'])\n",
        "\n",
        "# Charger le modèle entraîné\n",
        "gb_regressor = joblib.load('models/gb_regressor.pkl')\n",
        "\n",
        "# Utiliser le modèle pour faire des prédictions\n",
        "predictions = gb_regressor.predict(data)\n",
        "predictions"
      ]
    },
    {
      "cell_type": "markdown",
      "metadata": {
        "id": "3xsjLTD57LVy"
      },
      "source": [
        "Pour un ensemble de maison (fichier data_to_predict.csv) :"
      ]
    },
    {
      "cell_type": "code",
      "execution_count": null,
      "metadata": {
        "id": "UAsvn8T67LVy"
      },
      "outputs": [],
      "source": [
        "# Charger le modèle entraîné\n",
        "model = joblib.load('models/gb_regressor.pkl')\n",
        "\n",
        "# Charger les données à prédire à partir d'un fichier CSV\n",
        "data = pd.read_csv('data/data_to_predict.csv')\n",
        "\n",
        "# Sélectionner les colonnes nécessaires pour la prédiction\n",
        "features = data[['OverallQual', 'YearBuilt', 'YearRemodAdd', 'TotalBsmtSF', '1stFlrSF', 'GrLivArea', 'FullBath', 'TotRmsAbvGrd', 'GarageCars', 'GarageArea', 'BsmtQual_Ex', 'KitchenQual_Ex']]\n",
        "\n",
        "# Faire la prédiction\n",
        "prediction = model.predict(features)\n",
        "\n",
        "# Afficher le résultat\n",
        "print(prediction)"
      ]
    },
    {
      "cell_type": "markdown",
      "metadata": {
        "id": "Fyo-kyxE5ViU"
      },
      "source": [
        "# IMPLÉMENTATION DE LA CLASSIFICATION"
      ]
    },
    {
      "cell_type": "markdown",
      "metadata": {
        "id": "PDtKZ9FvTACk"
      },
      "source": [
        "Chargement de notre meilleur modèle de classification : RandomForest"
      ]
    },
    {
      "cell_type": "code",
      "execution_count": null,
      "metadata": {
        "id": "GdQSoq1d6IG6"
      },
      "outputs": [],
      "source": [
        "from sklearn.ensemble import RandomForestClassifier\n",
        "\n",
        "rf = RandomForestClassifier(n_estimators=100, max_depth=5)"
      ]
    },
    {
      "cell_type": "code",
      "execution_count": null,
      "metadata": {
        "id": "QdbfeTnQ7LVz"
      },
      "outputs": [],
      "source": [
        "import joblib\n",
        "\n",
        "joblib.dump(rf, 'models/rf_classifier.pkl')\n",
        "rf = joblib.load('models/rf_classifier.pkl')"
      ]
    },
    {
      "cell_type": "markdown",
      "metadata": {
        "id": "ypchJQGT7LVz"
      },
      "source": [
        "Pour une maison unique :"
      ]
    },
    {
      "cell_type": "code",
      "execution_count": null,
      "metadata": {
        "id": "5_va8sLC7LVz",
        "outputId": "539bc206-e6b4-470c-806a-7688c94178d3"
      },
      "outputs": [
        {
          "data": {
            "text/plain": [
              "array([2])"
            ]
          },
          "execution_count": 19,
          "metadata": {},
          "output_type": "execute_result"
        }
      ],
      "source": [
        "# Créer un dataframe à partir des données fournies\n",
        "data = pd.DataFrame(np.array([[7, 2003, 2003, 856, 856, 1710, 2, 8, 2, 548, 1, 1]]),\n",
        "                    columns=['OverallQual', 'YearBuilt', 'YearRemodAdd', 'TotalBsmtSF', '1stFlrSF',\n",
        "                             'GrLivArea', 'FullBath', 'TotRmsAbvGrd', 'GarageCars', 'GarageArea',\n",
        "                             'BsmtQual_Ex', 'KitchenQual_Ex'])\n",
        "\n",
        "# Charger le modèle entraîné\n",
        "rf_classifier = joblib.load('models/rf_classifier.pkl')\n",
        "\n",
        "# Utiliser le modèle pour faire des prédictions\n",
        "predictions = rf_classifier.predict(data)\n",
        "predictions"
      ]
    },
    {
      "cell_type": "markdown",
      "metadata": {
        "id": "r7bkCixQ7LVz"
      },
      "source": [
        "Pour un ensemble de maison (fichier data_to_predict.csv) :"
      ]
    },
    {
      "cell_type": "code",
      "execution_count": null,
      "metadata": {
        "id": "WiouUaKB7LV0"
      },
      "outputs": [],
      "source": [
        "# Charger le modèle entraîné\n",
        "model = joblib.load('models/rf_classifier.pkl')\n",
        "\n",
        "# Charger les données à prédire à partir d'un fichier CSV\n",
        "data = pd.read_csv('data/data_to_predict.csv')\n",
        "\n",
        "# Sélectionner les colonnes nécessaires pour la prédiction\n",
        "features = data[['OverallQual', 'YearBuilt', 'YearRemodAdd', 'TotalBsmtSF', '1stFlrSF', 'GrLivArea', 'FullBath', 'TotRmsAbvGrd', 'GarageCars', 'GarageArea', 'BsmtQual_Ex', 'KitchenQual_Ex']]\n",
        "\n",
        "# Faire la prédiction\n",
        "prediction = model.predict(features)\n",
        "\n",
        "# Afficher le résultat\n",
        "print(prediction)"
      ]
    }
  ],
  "metadata": {
    "colab": {
      "provenance": [],
      "include_colab_link": true
    },
    "kernelspec": {
      "display_name": "Python 3",
      "name": "python3"
    },
    "language_info": {
      "codemirror_mode": {
        "name": "ipython",
        "version": 3
      },
      "file_extension": ".py",
      "mimetype": "text/x-python",
      "name": "python",
      "nbconvert_exporter": "python",
      "pygments_lexer": "ipython3",
      "version": "3.10.5"
    }
  },
  "nbformat": 4,
  "nbformat_minor": 0
}